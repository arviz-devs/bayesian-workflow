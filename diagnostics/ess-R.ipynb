{
 "cells": [
  {
   "cell_type": "markdown",
   "id": "80bfcc24",
   "metadata": {},
   "source": [
    "# Effective sample size (R)\n",
    "\n",
    ":::{include} ess.md\n",
    ":start-after: intro-start \n",
    ":end-before: intro-end\n",
    ":::"
   ]
  },
  {
   "cell_type": "code",
   "execution_count": 1,
   "id": "39de80af",
   "metadata": {},
   "outputs": [
    {
     "name": "stderr",
     "output_type": "stream",
     "text": [
      "This is posterior version 0.1.3\n",
      "\n"
     ]
    },
    {
     "data": {
      "text/html": [
       "1277.47043696417"
      ],
      "text/latex": [
       "1277.47043696417"
      ],
      "text/markdown": [
       "1277.47043696417"
      ],
      "text/plain": [
       "[1] 1277.47"
      ]
     },
     "metadata": {},
     "output_type": "display_data"
    }
   ],
   "source": [
    "library(\"posterior\")\n",
    "eight_schools_array <- example_draws(\"eight_schools\")\n",
    "ess_bulk(eight_schools_array)"
   ]
  },
  {
   "cell_type": "markdown",
   "id": "6df7d868",
   "metadata": {},
   "source": [
    ":::{include} ess.md\n",
    ":start-after: tail-note-start\n",
    ":end-before: tail-note-end\n",
    ":::"
   ]
  },
  {
   "cell_type": "code",
   "execution_count": 2,
   "id": "107555d1",
   "metadata": {},
   "outputs": [
    {
     "data": {
      "text/html": [
       "1547.54631634921"
      ],
      "text/latex": [
       "1547.54631634921"
      ],
      "text/markdown": [
       "1547.54631634921"
      ],
      "text/plain": [
       "[1] 1547.546"
      ]
     },
     "metadata": {},
     "output_type": "display_data"
    }
   ],
   "source": [
    "ess_tail(eight_schools_array)"
   ]
  },
  {
   "cell_type": "markdown",
   "id": "0488dd8f",
   "metadata": {},
   "source": [
    ":::{include} ess.md\n",
    ":start-after: conclusion-start\n",
    ":end-before: conclusion-end\n",
    ":::"
   ]
  },
  {
   "cell_type": "code",
   "execution_count": null,
   "id": "dbd2489c",
   "metadata": {},
   "outputs": [],
   "source": []
  }
 ],
 "metadata": {
  "kernelspec": {
   "display_name": "R",
   "language": "R",
   "name": "ir"
  },
  "language_info": {
   "codemirror_mode": "r",
   "file_extension": ".r",
   "mimetype": "text/x-r-source",
   "name": "R",
   "pygments_lexer": "r",
   "version": "3.6.3"
  }
 },
 "nbformat": 4,
 "nbformat_minor": 5
}
